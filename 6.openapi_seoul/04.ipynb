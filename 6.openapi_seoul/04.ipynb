{
 "cells": [
  {
   "cell_type": "code",
   "execution_count": 9,
   "id": "21a59fe8",
   "metadata": {},
   "outputs": [],
   "source": [
    "import requests\n",
    "import dotenv\n",
    "import os\n",
    "dotenv.load_dotenv()  # .env 환경변수 파일을 로드함\n",
    "\n",
    "key = os.getenv(\"SEOUL_SUBWAY_API\")"
   ]
  },
  {
   "cell_type": "code",
   "execution_count": 53,
   "id": "7988396e",
   "metadata": {},
   "outputs": [
    {
     "data": {
      "text/plain": [
       "200"
      ]
     },
     "execution_count": 53,
     "metadata": {},
     "output_type": "execute_result"
    }
   ],
   "source": [
    "# 지하철 실시간 도착정보  https://data.seoul.go.kr/dataList/OA-12764/F/1/datasetView.do\n",
    "# http://swopenAPI.seoul.go.kr/api/subway/(인증키)/xml/realtimeStationArrival/0/5/서울\n",
    "\n",
    "url = f'http://swopenAPI.seoul.go.kr/api/subway/{key}/json/realtimeStationArrival/0/100/강남'\n",
    "response = requests.get(url)\n",
    "response.status_code"
   ]
  },
  {
   "cell_type": "code",
   "execution_count": 55,
   "id": "e65fccdc",
   "metadata": {},
   "outputs": [
    {
     "name": "stdout",
     "output_type": "stream",
     "text": [
      "열차종류:일반 도착예정시간:0분 0초\n",
      "신사행 - 신논현방면 강남 1077000688 1077000687 1077000686\n",
      "****************************************************************************************************\n",
      "열차종류:일반 도착예정시간:4분 20초\n",
      "성수행 - 역삼방면 강남 1002000223 1002000222 1002000221\n",
      "****************************************************************************************************\n",
      "열차종류:일반 도착예정시간:0분 0초\n",
      "신사행 - 신논현방면 강남 1077000688 1077000687 1077000686\n",
      "****************************************************************************************************\n",
      "열차종류:일반 도착예정시간:8분 50초\n",
      "성수행 - 역삼방면 강남 1002000223 1002000222 1002000221\n",
      "****************************************************************************************************\n",
      "열차종류:일반 도착예정시간:0분 0초\n",
      "광교행 - 양재방면 강남 1077000686 1077000687 1077000688\n",
      "****************************************************************************************************\n",
      "열차종류:일반 도착예정시간:2분 30초\n",
      "성수행 - 교대방면 강남 1002000221 1002000222 1002000223\n",
      "****************************************************************************************************\n",
      "열차종류:일반 도착예정시간:4분 0초\n",
      "성수행 - 교대방면 강남 1002000221 1002000222 1002000223\n",
      "****************************************************************************************************\n"
     ]
    }
   ],
   "source": [
    "respnse = response.json()\n",
    "for row in respnse['realtimeArrivalList']:\n",
    "    print(f'열차종류:{row[\"btrainSttus\"]} 도착예정시간:{int(row[\"barvlDt\"])//60}분 {int(row[\"barvlDt\"])%60}초')\n",
    "    print(row['trainLineNm'],row['statnNm'],row['statnFid'],row['statnId'],row['statnTid'])\n",
    "    print('*'*100)   "
   ]
  },
  {
   "cell_type": "code",
   "execution_count": null,
   "id": "3b6d205e",
   "metadata": {},
   "outputs": [],
   "source": [
    "line2_stations = [\n",
    "    # 본선\n",
    "    \"시청\", \"을지로입구\", \"을지로3가\", \"을지로4가\", \"동대문역사문화공원\", \"신당\", \"상왕십리\",\n",
    "    \"왕십리\", \"한양대\", \"뚝섬\", \"성수\", \"건대입구\", \"구의\", \"강변\", \"잠실나루\", \"잠실\",\n",
    "    \"잠실새내\", \"종합운동장\", \"삼성\", \"선릉\", \"역삼\", \"강남\", \"교대\", \"서초\", \"방배\", \n",
    "    \"사당\", \"낙성대\", \"서울대입구\", \"봉천\", \"신림\", \"신대방\", \"구로디지털단지\", \"대림\",\n",
    "    \"신도림\", \"문래\", \"영등포구청\", \"당산\", \"합정\", \"홍대입구\", \"신촌\", \"이대\", \"아현\",\n",
    "    \"충정로\", \"시청\",\n",
    "    # 성수지선\n",
    "    \"성수\", \"용답\", \"신답\", \"용두\", \"신설동\",\n",
    "    # 신정지선\n",
    "    \"신도림\", \"도림천\", \"양천구청\", \"신정네거리\", \"까치산\"\n",
    "]"
   ]
  },
  {
   "cell_type": "code",
   "execution_count": null,
   "id": "06050f83",
   "metadata": {},
   "outputs": [],
   "source": [
    "# 역명 - 역명코드  매핑테이블 만들기\n",
    "for station in line2_stations:\n",
    "    url = f'http://swopenAPI.seoul.go.kr/api/subway/{key}/json/realtimeStationArrival/0/100/{station}'\n",
    "    response = requests.get(url)\n",
    "    response.status_code\n",
    "    respnse = response.json()\n",
    "\n"
   ]
  }
 ],
 "metadata": {
  "kernelspec": {
   "display_name": ".venv",
   "language": "python",
   "name": "python3"
  },
  "language_info": {
   "codemirror_mode": {
    "name": "ipython",
    "version": 3
   },
   "file_extension": ".py",
   "mimetype": "text/x-python",
   "name": "python",
   "nbconvert_exporter": "python",
   "pygments_lexer": "ipython3",
   "version": "3.13.8"
  }
 },
 "nbformat": 4,
 "nbformat_minor": 5
}
