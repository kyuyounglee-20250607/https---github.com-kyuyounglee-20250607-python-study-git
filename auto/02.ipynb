{
 "cells": [
  {
   "cell_type": "code",
   "execution_count": 2,
   "id": "5d8920cb",
   "metadata": {},
   "outputs": [
    {
     "name": "stdout",
     "output_type": "stream",
     "text": [
      "http://211.237.50.150:7080/openapi/b0701\n"
     ]
    }
   ],
   "source": [
    "import dotenv\n",
    "import os\n",
    "import requests\n",
    "import xml.etree.ElementTree as ET\n",
    "import pandas as pd\n",
    "import time\n",
    "from typing import List, Dict\n",
    "\n",
    "dotenv.load_dotenv()  # .env 값 읽어오기\n",
    "\n",
    "key = os.getenv('FARMER_KEY')\n",
    "base_url = f\"http://211.237.50.150:7080/openapi/{key}/xml/Grid_20171122000000000552_1\"\n",
    "print(base_url[:40])"
   ]
  },
  {
   "cell_type": "code",
   "execution_count": null,
   "id": "188cf0df",
   "metadata": {},
   "outputs": [
    {
     "name": "stdout",
     "output_type": "stream",
     "text": [
      "451\n",
      "  → 수집 완료: 2개 (전체: 451개)\n"
     ]
    }
   ],
   "source": [
    "import requests\n",
    "start_index=1; end_index=10\n",
    "base_url = f\"http://211.237.50.150:7080/openapi/{key}\\\n",
    "/xml/Grid_20171122000000000552_1/{start_index}/{end_index}\"\n",
    "response = requests.get(base_url, timeout=10)\n",
    "response.raise_for_status()\n",
    "# XML 파싱\n",
    "root = ET.fromstring(response.content)\n",
    "# 출력결과를 확인\n",
    "# xml_string = ET.tostring(root, encoding='unicode')\n",
    "# print(xml_string)\n",
    "# 전체 데이터 개수 확인  \n",
    "total_count_elem = root.find('totalCnt')\n",
    "total_count = int(total_count_elem.text) if total_count_elem is not None else 0\n",
    "print(total_count) \n",
    "\n",
    "data_list = []\n",
    "for row in root.findall('row'):\n",
    "    item = {}\n",
    "    for child in row:\n",
    "        item[child.tag] = child.text\n",
    "    data_list.append(item)\n",
    "\n",
    "print(f\"  → 수집 완료: {len(data_list)}개 (전체: {total_count}개)\")"
   ]
  },
  {
   "cell_type": "code",
   "execution_count": null,
   "id": "b2f17505",
   "metadata": {},
   "outputs": [
    {
     "data": {
      "text/plain": [
       "1"
      ]
     },
     "execution_count": 8,
     "metadata": {},
     "output_type": "execute_result"
    }
   ],
   "source": [
    "# 데이터 추출\n",
    "import time\n",
    "batch_size = 10  # 10개씩 \n",
    "current_index = batch_size+1   #11 ~ 20  21 ~ 30  31 ~ 40  450   451 451\n",
    "delay = 0.5\n",
    "\n",
    "while current_index <= total_count:\n",
    "    time.sleep(delay)\n",
    "    end_index = min(current_index+batch_size-1, total_count)\n",
    "\n",
    "    base_url = f\"http://211.237.50.150:7080/openapi/{key}\\\n",
    "    /xml/Grid_20171122000000000552_1/{current_index}/{end_index}\"\n",
    "    response = requests.get(base_url, timeout=10)\n",
    "    response.raise_for_status()\n",
    "    # XML 파싱\n",
    "    root = ET.fromstring(response.content)\n",
    "    for row in root.findall('row'):\n",
    "        item = {}\n",
    "        for child in row:\n",
    "            item[child.tag] = child.text\n",
    "        data_list.append(item)\n",
    "    print(f\"  → 수집 완료: {len(data_list)}개 (전체: {total_count}개)\")\n",
    "\n",
    "    current_index = end_index + 1"
   ]
  },
  {
   "cell_type": "code",
   "execution_count": null,
   "id": "3a89e551",
   "metadata": {},
   "outputs": [],
   "source": []
  }
 ],
 "metadata": {
  "kernelspec": {
   "display_name": ".venv",
   "language": "python",
   "name": "python3"
  },
  "language_info": {
   "codemirror_mode": {
    "name": "ipython",
    "version": 3
   },
   "file_extension": ".py",
   "mimetype": "text/x-python",
   "name": "python",
   "nbconvert_exporter": "python",
   "pygments_lexer": "ipython3",
   "version": "3.13.9"
  }
 },
 "nbformat": 4,
 "nbformat_minor": 5
}
