{
 "cells": [
  {
   "cell_type": "code",
   "execution_count": 1,
   "id": "21a59fe8",
   "metadata": {},
   "outputs": [],
   "source": [
    "import requests\n",
    "import dotenv\n",
    "import os\n",
    "dotenv.load_dotenv()  # .env 환경변수 파일을 로드함\n",
    "\n",
    "key = os.getenv(\"SEOUL_API\")"
   ]
  },
  {
   "cell_type": "code",
   "execution_count": null,
   "id": "7988396e",
   "metadata": {},
   "outputs": [],
   "source": [
    "# 지하철 실시간 도착정보  https://data.seoul.go.kr/dataList/OA-12764/F/1/datasetView.do\n",
    "# http://swopenAPI.seoul.go.kr/api/subway/(인증키)/xml/realtimeStationArrival/0/5/서울"
   ]
  }
 ],
 "metadata": {
  "kernelspec": {
   "display_name": ".venv",
   "language": "python",
   "name": "python3"
  },
  "language_info": {
   "codemirror_mode": {
    "name": "ipython",
    "version": 3
   },
   "file_extension": ".py",
   "mimetype": "text/x-python",
   "name": "python",
   "nbconvert_exporter": "python",
   "pygments_lexer": "ipython3",
   "version": "3.13.8"
  }
 },
 "nbformat": 4,
 "nbformat_minor": 5
}
