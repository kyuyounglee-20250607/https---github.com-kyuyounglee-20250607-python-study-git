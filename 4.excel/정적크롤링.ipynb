{
 "cells": [
  {
   "cell_type": "code",
   "execution_count": 26,
   "id": "0bddcade",
   "metadata": {},
   "outputs": [],
   "source": [
    "# 정적 구조 : 웹페이지를 요청하면.. 바로 소스가 보이는 구조\n",
    "    # url에 따라서 페이지가 변화는구조\n",
    "\n",
    "# 동적 구조 : 웹페이지를 요청하면 데이터가 바로 보이지 않고 브라우져의 스크립가 실행되서 데이터 가져오는 구조\n",
    "    # url은 고정이고 내부에서 페이자가 동적으로 (ex 버튼을 눌러야 나오는 데이터들)\n",
    "    # 동적구조는 py파일에서 실행해야 안정성이 있음"
   ]
  },
  {
   "cell_type": "code",
   "execution_count": 27,
   "id": "38ee8369",
   "metadata": {},
   "outputs": [
    {
     "name": "stdout",
     "output_type": "stream",
     "text": [
      "Requirement already satisfied: beautifulsoup4 in d:\\week_src\\.venv\\lib\\site-packages (4.13.5)\n",
      "Requirement already satisfied: requests in d:\\week_src\\.venv\\lib\\site-packages (2.32.5)\n",
      "Requirement already satisfied: soupsieve>1.2 in d:\\week_src\\.venv\\lib\\site-packages (from beautifulsoup4) (2.8)\n",
      "Requirement already satisfied: typing-extensions>=4.0.0 in d:\\week_src\\.venv\\lib\\site-packages (from beautifulsoup4) (4.15.0)\n",
      "Requirement already satisfied: charset_normalizer<4,>=2 in d:\\week_src\\.venv\\lib\\site-packages (from requests) (3.4.3)\n",
      "Requirement already satisfied: idna<4,>=2.5 in d:\\week_src\\.venv\\lib\\site-packages (from requests) (3.10)\n",
      "Requirement already satisfied: urllib3<3,>=1.21.1 in d:\\week_src\\.venv\\lib\\site-packages (from requests) (2.5.0)\n",
      "Requirement already satisfied: certifi>=2017.4.17 in d:\\week_src\\.venv\\lib\\site-packages (from requests) (2025.8.3)\n",
      "Note: you may need to restart the kernel to use updated packages.\n"
     ]
    }
   ],
   "source": [
    "%pip install beautifulsoup4 requests"
   ]
  },
  {
   "cell_type": "code",
   "execution_count": 28,
   "id": "f0ec79bd",
   "metadata": {},
   "outputs": [],
   "source": [
    "import requests\n",
    "from bs4 import BeautifulSoup"
   ]
  },
  {
   "cell_type": "code",
   "execution_count": 29,
   "id": "030ff8a8",
   "metadata": {},
   "outputs": [
    {
     "name": "stdout",
     "output_type": "stream",
     "text": [
      "<!doctype html>\n",
      "<html lang=\"ko\">\n",
      " <head>\n",
      "  <meta charset=\"utf-8\">\n",
      "  <title>Daum</title>\n",
      "  <meta http\n"
     ]
    }
   ],
   "source": [
    "url = 'https://www.daum.net/'\n",
    "response = requests.get(url)\n",
    "print(response.text[:100])"
   ]
  },
  {
   "cell_type": "code",
   "execution_count": 30,
   "id": "bc54eb33",
   "metadata": {},
   "outputs": [],
   "source": [
    "html = '''\n",
    "<div id = 'contents'>\n",
    "    <a class='title'>안녕하세요</a>\n",
    "</div>\n",
    "<a class='title2'>안녕하세요2</a>\n",
    "<a href=\"https:www.naver.com\" class=\"link\">네이버</a>\n",
    "'''"
   ]
  },
  {
   "cell_type": "code",
   "execution_count": 31,
   "id": "e633709d",
   "metadata": {},
   "outputs": [
    {
     "data": {
      "text/plain": [
       "[<a class=\"title\">안녕하세요</a>,\n",
       " <a class=\"title2\">안녕하세요2</a>,\n",
       " <a class=\"link\" href=\"https:www.naver.com\">네이버</a>]"
      ]
     },
     "execution_count": 31,
     "metadata": {},
     "output_type": "execute_result"
    }
   ],
   "source": [
    "soup = BeautifulSoup(html,'html.parser')\n",
    "soup.select('a')  # 태그로 찾기"
   ]
  },
  {
   "cell_type": "code",
   "execution_count": 32,
   "id": "c10af769",
   "metadata": {},
   "outputs": [
    {
     "data": {
      "text/plain": [
       "[<div id=\"contents\">\n",
       " <a class=\"title\">안녕하세요</a>\n",
       " </div>]"
      ]
     },
     "execution_count": 32,
     "metadata": {},
     "output_type": "execute_result"
    }
   ],
   "source": [
    "soup.select('#contents')  # id='contents' 항목을 찾기"
   ]
  },
  {
   "cell_type": "code",
   "execution_count": 33,
   "id": "8bb482e2",
   "metadata": {},
   "outputs": [
    {
     "data": {
      "text/plain": [
       "[<a class=\"title\">안녕하세요</a>]"
      ]
     },
     "execution_count": 33,
     "metadata": {},
     "output_type": "execute_result"
    }
   ],
   "source": [
    "soup.select('.title')  # class='title'"
   ]
  },
  {
   "cell_type": "code",
   "execution_count": 41,
   "id": "e7bb577d",
   "metadata": {},
   "outputs": [
    {
     "data": {
      "text/plain": [
       "'https:www.naver.com'"
      ]
     },
     "execution_count": 41,
     "metadata": {},
     "output_type": "execute_result"
    }
   ],
   "source": [
    "href_tag = soup.select(\".link\")[0]\n",
    "href_tag['href']"
   ]
  },
  {
   "cell_type": "code",
   "execution_count": 43,
   "id": "9a65a848",
   "metadata": {},
   "outputs": [
    {
     "data": {
      "text/plain": [
       "[<a class=\"title\">안녕하세요</a>]"
      ]
     },
     "execution_count": 43,
     "metadata": {},
     "output_type": "execute_result"
    }
   ],
   "source": [
    "soup.select(\"div > a\")"
   ]
  },
  {
   "cell_type": "code",
   "execution_count": 68,
   "id": "fea9c1a7",
   "metadata": {},
   "outputs": [
    {
     "name": "stdout",
     "output_type": "stream",
     "text": [
      "이진숙 \"개딸 추석선물, 헌소\"…與 \"국민호도, 역사앞 반성하라\"(종합)\n",
      "'국정자원 화재'로 부각된 배터리 안전성 논란..정부 ESS 진흥에 악영향 우려\n",
      "민주 \"조희대 불출석 통보\"...국민의힘, 장외 여론전\n",
      "[단독] 불과 1년 전 ‘화재 상황시 대국민 행정서비스 중단 방지’ 훈련한 국가정보자원관리원\n",
      "정부 서버 옆 60㎝…리튬이온배터리 옮기다 불났다\n",
      "李 대통령 “국정자원, 이중 운영 체계 미비...재발 방지 근본적 체계 구축”\n",
      "지자체, 공공기관도 비상... ‘월요일 민원 대란’ 우려\n",
      "\"전산망 이중시스템 미비가 일 키워\"…'카톡 먹통' 재연 지적도\n",
      "국민의힘 \"李, 김현지 실명 거론…대통령실 권력 서열 뒤틀려\"\n",
      "\n",
      "무기력한 교실, 작은 변화를 싹틔우는 심리 수업 [.txt]\n",
      "\"가방에 마약 덩어리\" 평범한 그 남자가 운반책…초고속 검거한 경찰\n",
      "‘은중과 상연’ 김고은의 ‘비범한 평범’을 질투하다\n",
      "[삶] \"북한군, 남한군 우습게 본다…韓 핵무장 불가피\"…前특전사령관\n",
      "200억 부동산 기부 ‘노블레스 오블리주’ 취재 실패기\n",
      "\n",
      "[그래픽] 연령대별 1인당 평균 가계대출 잔액\n",
      "\n",
      "[김회룡의 시사 TOON]\n",
      "\n"
     ]
    }
   ],
   "source": [
    "url = \"https://news.daum.net/\"\n",
    "response = requests.get(url)\n",
    "response.encoding = 'utf-8'\n",
    "soup = BeautifulSoup(response.text, \"html.parser\")\n",
    "ul_tags = soup.select('.list_newsheadline2')\n",
    "for ul in ul_tags:\n",
    "    li_tags = ul.select('li')\n",
    "    for li in li_tags:\n",
    "        print( li.select('.tit_txt')[0].text )\n",
    "    print()"
   ]
  },
  {
   "cell_type": "code",
   "execution_count": null,
   "id": "a541de40",
   "metadata": {},
   "outputs": [],
   "source": [
    "page_no = 1    # ~ 46\n",
    "url = f'https://www.hollys.co.kr/store/korea/korStore2.do?pageNo={page_no}'\n",
    "response = requests.get(url)\n",
    "soup = BeautifulSoup(response.text,'html.parser')\n",
    "#contents > div.content > fieldset > fieldset > div.tableType01 > table > tbody > tr\n",
    "tr_tags = soup.select('#contents > div.content > fieldset > fieldset > div.tableType01 > table > tbody > tr')"
   ]
  },
  {
   "cell_type": "code",
   "execution_count": 99,
   "id": "e16ca138",
   "metadata": {},
   "outputs": [
    {
     "name": "stdout",
     "output_type": "stream",
     "text": [
      "부산 중구\n",
      "부산광복점\n",
      "영업중\n",
      "부산광역시 중구 광복로 70 (광복동2가) .\n",
      "\n",
      "051-253-8033\n",
      "\n",
      "경기 과천시\n",
      "과천정보타운점\n",
      "영업중\n",
      "경기도 과천시 과천대로7가길 20 (갈현동,프리즘스퀘어1 1층 101호) 갈현동 산32 \n",
      "주차 \n",
      "02-6958-6720\n",
      "\n",
      "경기 양평군\n",
      "양평북한강DI점\n",
      "영업중\n",
      "경기도 양평군 양서면 양수로118번길 29 할리스\n",
      "테라스 주차 \n",
      "031-8079-7090\n",
      "\n",
      "전북 완주군\n",
      "완주삼봉점\n",
      "영업중\n",
      "전라북도 완주군 삼례읍 신기길 5-3 수계리 1212-4\n",
      "\n",
      "063-261-2003\n",
      "\n",
      "서울 송파구\n",
      "잠실새내역점\n",
      "영업중\n",
      "서울특별시 송파구 올림픽로12길 8 (잠실동, 제일빌딩) .\n",
      "테라스 흡연시설 \n",
      "02-416-2085\n",
      "\n",
      "경기 화성시\n",
      "화성남양점\n",
      "영업중\n",
      "경기 화성시 역골중앙로 115 1층 남양읍 남양리 2279-2\n",
      "주차 \n",
      "031-8067-7760\n",
      "\n",
      "경기 여주시\n",
      "여주교동DI점\n",
      "영업중\n",
      "경기도 여주시 향교로 17 (창동) 1층~2층 /창동 183-4\n",
      "주차 \n",
      "031-882-8121\n",
      "\n",
      "서울 중랑구\n",
      "중랑역점\n",
      "영업중\n",
      "서울특별시 중랑구 망우로 210 (상봉동) .\n",
      "흡연시설 \n",
      "02.6085.7858\n",
      "\n",
      "경기 성남시 분당구\n",
      "분당서울대병원점\n",
      "영업중\n",
      "경기도 성남시 분당구 구미로173번길 82 (구미동, 분당서울대학교병원) 본관 1동\n",
      "주차 \n",
      "031-8039-6020\n",
      "\n",
      "서울 광진구\n",
      "강변역점\n",
      "영업중\n",
      "서울 광진구 구의강변로 64, 구의아크로리버 1층 구의동 589-10\n",
      "주차 \n",
      "070-7802-0303\n",
      "\n"
     ]
    }
   ],
   "source": [
    "for tr in tr_tags:\n",
    "    for idx,td in enumerate(tr.select('td')):    \n",
    "        if idx == 4:\n",
    "            for img in td.select('img'):\n",
    "                print(img['alt'],end=' ')\n",
    "            print()\n",
    "        else:\n",
    "            print(td.text)\n",
    "    print()"
   ]
  },
  {
   "cell_type": "code",
   "execution_count": 89,
   "id": "5829fd06",
   "metadata": {},
   "outputs": [
    {
     "data": {
      "text/plain": [
       "'주차'"
      ]
     },
     "execution_count": 89,
     "metadata": {},
     "output_type": "execute_result"
    }
   ],
   "source": [
    "tr_tags[0].select('td')[4].select_one('img')['alt']"
   ]
  },
  {
   "cell_type": "code",
   "execution_count": null,
   "id": "6d1e3624",
   "metadata": {},
   "outputs": [],
   "source": []
  }
 ],
 "metadata": {
  "kernelspec": {
   "display_name": ".venv",
   "language": "python",
   "name": "python3"
  },
  "language_info": {
   "codemirror_mode": {
    "name": "ipython",
    "version": 3
   },
   "file_extension": ".py",
   "mimetype": "text/x-python",
   "name": "python",
   "nbconvert_exporter": "python",
   "pygments_lexer": "ipython3",
   "version": "3.13.7"
  }
 },
 "nbformat": 4,
 "nbformat_minor": 5
}
