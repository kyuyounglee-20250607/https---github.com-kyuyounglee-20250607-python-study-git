{
 "cells": [
  {
   "cell_type": "code",
   "execution_count": 5,
   "id": "5d8920cb",
   "metadata": {},
   "outputs": [
    {
     "name": "stdout",
     "output_type": "stream",
     "text": [
      "http://211.237.50.150:7080/openapi/b0701\n"
     ]
    }
   ],
   "source": [
    "import dotenv\n",
    "import os\n",
    "import requests\n",
    "import xml.etree.ElementTree as ET\n",
    "import pandas as pd\n",
    "import time\n",
    "from typing import List, Dict\n",
    "\n",
    "dotenv.load_dotenv()  # .env 값 읽어오기\n",
    "\n",
    "key = os.getenv('FARMER_KEY')\n",
    "base_url = f\"http://211.237.50.150:7080/openapi/{key}/xml/Grid_20171122000000000552_1\"\n",
    "print(base_url[:40])"
   ]
  },
  {
   "cell_type": "code",
   "execution_count": 23,
   "id": "188cf0df",
   "metadata": {},
   "outputs": [
    {
     "name": "stdout",
     "output_type": "stream",
     "text": [
      "451\n"
     ]
    },
    {
     "data": {
      "text/plain": [
       "[<Element 'row' at 0x000001F6A4AF3650>,\n",
       " <Element 'row' at 0x000001F6A4AF3F60>,\n",
       " <Element 'row' at 0x000001F6A4AF8810>,\n",
       " <Element 'row' at 0x000001F6A4AF9080>,\n",
       " <Element 'row' at 0x000001F6A4AF9940>,\n",
       " <Element 'row' at 0x000001F6A4AFA200>,\n",
       " <Element 'row' at 0x000001F6A4AFAAC0>,\n",
       " <Element 'row' at 0x000001F6A4AFB330>,\n",
       " <Element 'row' at 0x000001F6A4AFBB50>,\n",
       " <Element 'row' at 0x000001F6A4B00400>]"
      ]
     },
     "execution_count": 23,
     "metadata": {},
     "output_type": "execute_result"
    }
   ],
   "source": [
    "start_index=1; end_index=10\n",
    "base_url = f\"http://211.237.50.150:7080/openapi/{key}\\\n",
    "/xml/Grid_20171122000000000552_1/{start_index}/{end_index}\"\n",
    "response = requests.get(base_url, timeout=10)\n",
    "response.raise_for_status()\n",
    "# XML 파싱\n",
    "root = ET.fromstring(response.content)\n",
    "# 출력결과를 확인\n",
    "# xml_string = ET.tostring(root, encoding='unicode')\n",
    "# print(xml_string)\n",
    "# 전체 데이터 개수 확인\n",
    "total_count_elem = root.find('totalCnt')\n",
    "total_count = int(total_count_elem.text) if total_count_elem is not None else 0\n",
    "print(total_count)\n",
    "# 데이터 추출\n",
    "root.findall('row')\n",
    "# data_list = []\n",
    "# for row in root.findall('.//row'):\n",
    "#     item = {}\n",
    "#     for child in row:\n",
    "#         item[child.tag] = child.text\n",
    "#     data_list.append(item)\n",
    "\n",
    "# print(f\"  → 수집 완료: {len(data_list)}개 (전체: {total_count}개)\")"
   ]
  },
  {
   "cell_type": "code",
   "execution_count": null,
   "id": "b2f17505",
   "metadata": {},
   "outputs": [],
   "source": []
  }
 ],
 "metadata": {
  "kernelspec": {
   "display_name": ".venv",
   "language": "python",
   "name": "python3"
  },
  "language_info": {
   "codemirror_mode": {
    "name": "ipython",
    "version": 3
   },
   "file_extension": ".py",
   "mimetype": "text/x-python",
   "name": "python",
   "nbconvert_exporter": "python",
   "pygments_lexer": "ipython3",
   "version": "3.13.9"
  }
 },
 "nbformat": 4,
 "nbformat_minor": 5
}
