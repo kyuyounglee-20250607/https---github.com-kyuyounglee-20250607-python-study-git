{
 "cells": [
  {
   "cell_type": "code",
   "execution_count": 7,
   "id": "7fe2c876",
   "metadata": {},
   "outputs": [],
   "source": [
    "import os\n",
    "import requests\n",
    "import pandas as pd\n",
    "from dotenv import load_dotenv\n",
    "import time\n",
    "from tqdm.notebook import tqdm"
   ]
  },
  {
   "cell_type": "code",
   "execution_count": null,
   "id": "70ec0dfe",
   "metadata": {},
   "outputs": [],
   "source": [
    "def get_total_count(api_key):\n",
    "    \"\"\"전체 데이터 수를 조회하는 함수\"\"\"    \n",
    "    url = f\"http://openapi.seoul.go.kr:8088/{api_key}/json/tbLnOpendataRentV/1/1/2025\"    \n",
    "    try:\n",
    "        response = requests.get(url)        \n",
    "        data = response.json()        \n",
    "        return data['tbLnOpendataRentV']['list_total_count']\n",
    "    except Exception as e:\n",
    "        print(f\"데이터 수 조회 중 오류 발생: {e}\")\n",
    "        return 0\n",
    "\n",
    "def get_rent_data(start_idx, end_idx,api_key):\n",
    "    \"\"\"임대차 정보를 조회하는 함수\"\"\"    \n",
    "    url = f\"http://openapi.seoul.go.kr:8088/{api_key}/json/tbLnOpendataRentV/{start_idx}/{end_idx}/2025\"    \n",
    "    print(url)\n",
    "    try:\n",
    "        response = requests.get(url)\n",
    "        data = response.json()\n",
    "        return data['tbLnOpendataRentV']['row']\n",
    "    except Exception as e:\n",
    "        print(f\"데이터 조회 중 오류 발생: {e}\")\n",
    "        return []"
   ]
  },
  {
   "cell_type": "code",
   "execution_count": null,
   "id": "3da9be18",
   "metadata": {},
   "outputs": [
    {
     "name": "stdout",
     "output_type": "stream",
     "text": [
      "http://openapi.seoul.go.kr:8088/70794a6f4d70696138305243626973/json/tbLnOpendataRentV/1/1/2025\n",
      "전체 데이터 수: 92065\n",
      "전체 데이터 수: 92065\n"
     ]
    },
    {
     "data": {
      "application/vnd.jupyter.widget-view+json": {
       "model_id": "ce1dc455bda94ca7b4db8b02a1fcb87e",
       "version_major": 2,
       "version_minor": 0
      },
      "text/plain": [
       "데이터 수집 진행률:   0%|          | 0/9207 [00:00<?, ?페이지/s]"
      ]
     },
     "metadata": {},
     "output_type": "display_data"
    },
    {
     "name": "stdout",
     "output_type": "stream",
     "text": [
      "http://openapi.seoul.go.kr:8088/70794a6f4d70696138305243626973/json/tbLnOpendataRentV/1/10/2025\n",
      "http://openapi.seoul.go.kr:8088/70794a6f4d70696138305243626973/json/tbLnOpendataRentV/11/20/2025\n",
      "http://openapi.seoul.go.kr:8088/70794a6f4d70696138305243626973/json/tbLnOpendataRentV/11/20/2025\n",
      "http://openapi.seoul.go.kr:8088/70794a6f4d70696138305243626973/json/tbLnOpendataRentV/21/30/2025\n",
      "http://openapi.seoul.go.kr:8088/70794a6f4d70696138305243626973/json/tbLnOpendataRentV/21/30/2025\n",
      "http://openapi.seoul.go.kr:8088/70794a6f4d70696138305243626973/json/tbLnOpendataRentV/31/40/2025\n",
      "http://openapi.seoul.go.kr:8088/70794a6f4d70696138305243626973/json/tbLnOpendataRentV/31/40/2025\n",
      "http://openapi.seoul.go.kr:8088/70794a6f4d70696138305243626973/json/tbLnOpendataRentV/41/50/2025\n",
      "http://openapi.seoul.go.kr:8088/70794a6f4d70696138305243626973/json/tbLnOpendataRentV/41/50/2025\n",
      "http://openapi.seoul.go.kr:8088/70794a6f4d70696138305243626973/json/tbLnOpendataRentV/51/60/2025\n",
      "http://openapi.seoul.go.kr:8088/70794a6f4d70696138305243626973/json/tbLnOpendataRentV/51/60/2025\n"
     ]
    }
   ],
   "source": [
    "# .env 파일에서 환경변수 로드\n",
    "load_dotenv()\n",
    "api_key = os.getenv('SEOUL_LANDMARK_API')    \n",
    "\n",
    "# 전체 데이터 수 조회\n",
    "total_count = int(get_total_count(api_key)*0.2)\n",
    "print(f\"전체 데이터 수: {total_count}\")\n",
    "\n",
    "if total_count == 0:    \n",
    "    raise Exception(\"데이터를 가져올 수 없습니다.\")\n",
    "\n",
    "# 데이터를 저장할 리스트\n",
    "all_data = []\n",
    "\n",
    "# 전체 반복 횟수 계산\n",
    "total_iterations = (total_count + 9) // 10  # 올림 나눗셈\n",
    "\n",
    "# 10페이지씩 데이터 조회 (tqdm으로 진행률 표시)\n",
    "page_size = 10\n",
    "progress_bar = tqdm(range(1, total_count + 1, page_size), \n",
    "                   total=total_iterations,\n",
    "                   desc=\"데이터 수집 진행률\",\n",
    "                   unit=\"페이지\")\n",
    "\n",
    "for start in progress_bar:\n",
    "    end = min(start + page_size - 1, total_count)\n",
    "    data = get_rent_data(start, end, api_key)\n",
    "    all_data.extend(data)\n",
    "    \n",
    "    # 진행상황 업데이트 메시지\n",
    "    progress_bar.set_postfix(현재=f\"{start}~{end}\")\n",
    "    \n",
    "    # API 호출 간격 조절\n",
    "    time.sleep(0.5)\n",
    "\n",
    "# 데이터프레임 생성\n",
    "df = pd.DataFrame(all_data)\n",
    "\n",
    "# CSV 파일로 저장\n",
    "current_time = time.strftime(\"%Y%m%d_%H%M%S\")\n",
    "filename = f\"seoul_rent_data_{current_time}.csv\"\n",
    "df.to_csv(filename, index=False, encoding='utf-8-sig')\n",
    "print(f\"데이터가 {filename}에 저장되었습니다.\")\n",
    "\n",
    "# 데이터 요약 정보 출력\n",
    "print(\"\\n데이터 요약:\")\n",
    "print(f\"총 행 수: {len(df)}\")\n",
    "print(\"\\n컬럼 정보:\")\n",
    "for col in df.columns:\n",
    "    print(f\"- {col}\")"
   ]
  },
  {
   "cell_type": "code",
   "execution_count": null,
   "id": "d4c634e5",
   "metadata": {},
   "outputs": [],
   "source": []
  }
 ],
 "metadata": {
  "kernelspec": {
   "display_name": ".venv",
   "language": "python",
   "name": "python3"
  },
  "language_info": {
   "codemirror_mode": {
    "name": "ipython",
    "version": 3
   },
   "file_extension": ".py",
   "mimetype": "text/x-python",
   "name": "python",
   "nbconvert_exporter": "python",
   "pygments_lexer": "ipython3",
   "version": "3.13.9"
  }
 },
 "nbformat": 4,
 "nbformat_minor": 5
}
