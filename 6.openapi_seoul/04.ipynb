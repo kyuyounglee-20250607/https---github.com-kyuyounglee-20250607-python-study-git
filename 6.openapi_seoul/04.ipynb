{
 "cells": [
  {
   "cell_type": "code",
   "execution_count": 9,
   "id": "21a59fe8",
   "metadata": {},
   "outputs": [],
   "source": [
    "import requests\n",
    "import dotenv\n",
    "import os\n",
    "dotenv.load_dotenv()  # .env 환경변수 파일을 로드함\n",
    "\n",
    "key = os.getenv(\"SEOUL_SUBWAY_API\")"
   ]
  },
  {
   "cell_type": "code",
   "execution_count": 14,
   "id": "7988396e",
   "metadata": {},
   "outputs": [
    {
     "data": {
      "text/plain": [
       "200"
      ]
     },
     "execution_count": 14,
     "metadata": {},
     "output_type": "execute_result"
    }
   ],
   "source": [
    "# 지하철 실시간 도착정보  https://data.seoul.go.kr/dataList/OA-12764/F/1/datasetView.do\n",
    "# http://swopenAPI.seoul.go.kr/api/subway/(인증키)/xml/realtimeStationArrival/0/5/서울\n",
    "\n",
    "url = f'http://swopenAPI.seoul.go.kr/api/subway/{key}/json/realtimeStationArrival/0/100/강남'\n",
    "response = requests.get(url)\n",
    "response.status_code"
   ]
  },
  {
   "cell_type": "code",
   "execution_count": 45,
   "id": "e65fccdc",
   "metadata": {},
   "outputs": [
    {
     "name": "stdout",
     "output_type": "stream",
     "text": [
      "열차종류:일반 도착예정시간:2분 30초\n",
      "성수행 - 역삼방면 강남 1002000223 1002000222 1002000221\n",
      "****************************************************************************************************\n",
      "열차종류:일반 도착예정시간:0분 0초\n",
      "신사행 - 신논현방면 강남 1077000688 1077000687 1077000686\n",
      "****************************************************************************************************\n",
      "열차종류:일반 도착예정시간:7분 0초\n",
      "성수행 - 역삼방면 강남 1002000223 1002000222 1002000221\n",
      "****************************************************************************************************\n",
      "열차종류:일반 도착예정시간:0분 0초\n",
      "신사행 - 신논현방면 강남 1077000688 1077000687 1077000686\n",
      "****************************************************************************************************\n",
      "열차종류:일반 도착예정시간:1분 0초\n",
      "성수행 - 교대방면 강남 1002000221 1002000222 1002000223\n",
      "****************************************************************************************************\n",
      "열차종류:일반 도착예정시간:0분 0초\n",
      "광교행 - 양재방면 강남 1077000686 1077000687 1077000688\n",
      "****************************************************************************************************\n",
      "열차종류:일반 도착예정시간:5분 40초\n",
      "성수행 - 교대방면 강남 1002000221 1002000222 1002000223\n",
      "****************************************************************************************************\n"
     ]
    }
   ],
   "source": [
    "respnse = response.json()\n",
    "for row in respnse['realtimeArrivalList']:\n",
    "    print(f'열차종류:{row[\"btrainSttus\"]} 도착예정시간:{int(row[\"barvlDt\"])//60}분 {int(row[\"barvlDt\"])%60}초')\n",
    "    print(row['trainLineNm'],row['statnNm'],row['statnFid'],row['statnId'],row['statnTid'])\n",
    "    print('*'*100)   "
   ]
  },
  {
   "cell_type": "code",
   "execution_count": null,
   "id": "3b6d205e",
   "metadata": {},
   "outputs": [],
   "source": []
  }
 ],
 "metadata": {
  "kernelspec": {
   "display_name": ".venv",
   "language": "python",
   "name": "python3"
  },
  "language_info": {
   "codemirror_mode": {
    "name": "ipython",
    "version": 3
   },
   "file_extension": ".py",
   "mimetype": "text/x-python",
   "name": "python",
   "nbconvert_exporter": "python",
   "pygments_lexer": "ipython3",
   "version": "3.13.8"
  }
 },
 "nbformat": 4,
 "nbformat_minor": 5
}
