{
 "cells": [
  {
   "cell_type": "code",
   "execution_count": null,
   "id": "0bddcade",
   "metadata": {},
   "outputs": [],
   "source": [
    "# 정적 구조 : 웹페이지를 요청하면.. 바로 소스가 보이는 구조\n",
    "    # url에 따라서 페이지가 변화는구조\n",
    "\n",
    "# 동적 구조 : 웹페이지를 요청하면 데이터가 바로 보이지 않고 브라우져의 스크립가 실행되서 데이터 가져오는 구조\n",
    "    # url은 고정이고 내부에서 페이자가 동적으로 (ex 버튼을 눌러야 나오는 데이터들)\n",
    "    # 동적구조는 py파일에서 실행해야 안정성이 있음"
   ]
  },
  {
   "cell_type": "code",
   "execution_count": 1,
   "id": "38ee8369",
   "metadata": {},
   "outputs": [
    {
     "name": "stdout",
     "output_type": "stream",
     "text": [
      "Requirement already satisfied: beautifulsoup4 in d:\\week_src\\.venv\\lib\\site-packages (4.13.5)\n",
      "Requirement already satisfied: requests in d:\\week_src\\.venv\\lib\\site-packages (2.32.5)\n",
      "Requirement already satisfied: soupsieve>1.2 in d:\\week_src\\.venv\\lib\\site-packages (from beautifulsoup4) (2.8)\n",
      "Requirement already satisfied: typing-extensions>=4.0.0 in d:\\week_src\\.venv\\lib\\site-packages (from beautifulsoup4) (4.15.0)\n",
      "Requirement already satisfied: charset_normalizer<4,>=2 in d:\\week_src\\.venv\\lib\\site-packages (from requests) (3.4.3)\n",
      "Requirement already satisfied: idna<4,>=2.5 in d:\\week_src\\.venv\\lib\\site-packages (from requests) (3.10)\n",
      "Requirement already satisfied: urllib3<3,>=1.21.1 in d:\\week_src\\.venv\\lib\\site-packages (from requests) (2.5.0)\n",
      "Requirement already satisfied: certifi>=2017.4.17 in d:\\week_src\\.venv\\lib\\site-packages (from requests) (2025.8.3)\n",
      "Note: you may need to restart the kernel to use updated packages.\n"
     ]
    }
   ],
   "source": [
    "%pip install beautifulsoup4 requests"
   ]
  },
  {
   "cell_type": "code",
   "execution_count": 1,
   "id": "f0ec79bd",
   "metadata": {},
   "outputs": [],
   "source": [
    "import requests\n",
    "from bs4 import BeautifulSoup"
   ]
  },
  {
   "cell_type": "code",
   "execution_count": 7,
   "id": "030ff8a8",
   "metadata": {},
   "outputs": [
    {
     "name": "stdout",
     "output_type": "stream",
     "text": [
      "<!doctype html>\n",
      "<html lang=\"ko\">\n",
      " <head>\n",
      "  <meta charset=\"utf-8\">\n",
      "  <title>Daum</title>\n",
      "  <meta http\n"
     ]
    }
   ],
   "source": [
    "url = 'https://www.daum.net/'\n",
    "response = requests.get(url)\n",
    "print(response.text[:100])"
   ]
  },
  {
   "cell_type": "code",
   "execution_count": null,
   "id": "bc54eb33",
   "metadata": {},
   "outputs": [],
   "source": [
    "html = '''\n",
    "<div id = 'contents'>\n",
    "    <a class='title'>안녕하세요</a>\n",
    "</div>\n",
    "<a class='title2'>안녕하세요2</a>\n",
    "<a href=\"https:www.naver.com\" class=\"link\">네이버</a>\n",
    "'''"
   ]
  },
  {
   "cell_type": "code",
   "execution_count": null,
   "id": "e633709d",
   "metadata": {},
   "outputs": [
    {
     "data": {
      "text/plain": [
       "[<a class=\"title\">안녕하세요</a>, <a class=\"title2\">안녕하세요2</a>]"
      ]
     },
     "execution_count": 14,
     "metadata": {},
     "output_type": "execute_result"
    }
   ],
   "source": [
    "soup = BeautifulSoup(html,'html.parser')\n",
    "soup.select('a')  # 태그로 찾기"
   ]
  },
  {
   "cell_type": "code",
   "execution_count": null,
   "id": "c10af769",
   "metadata": {},
   "outputs": [
    {
     "data": {
      "text/plain": [
       "[<div id=\"contents\">\n",
       " <a class=\"title\">안녕하세요</a>\n",
       " </div>]"
      ]
     },
     "execution_count": 16,
     "metadata": {},
     "output_type": "execute_result"
    }
   ],
   "source": [
    "soup.select('#contents')  # id='contents' 항목을 찾기"
   ]
  },
  {
   "cell_type": "code",
   "execution_count": null,
   "id": "8bb482e2",
   "metadata": {},
   "outputs": [
    {
     "data": {
      "text/plain": [
       "[<a class=\"title\">안녕하세요</a>]"
      ]
     },
     "execution_count": 17,
     "metadata": {},
     "output_type": "execute_result"
    }
   ],
   "source": [
    "soup.select('.title')  # class='title'"
   ]
  },
  {
   "cell_type": "code",
   "execution_count": 25,
   "id": "e7bb577d",
   "metadata": {},
   "outputs": [
    {
     "data": {
      "text/plain": [
       "[]"
      ]
     },
     "execution_count": 25,
     "metadata": {},
     "output_type": "execute_result"
    }
   ],
   "source": [
    "soup.select(\".link\")"
   ]
  },
  {
   "cell_type": "code",
   "execution_count": null,
   "id": "9a65a848",
   "metadata": {},
   "outputs": [],
   "source": []
  }
 ],
 "metadata": {
  "kernelspec": {
   "display_name": ".venv",
   "language": "python",
   "name": "python3"
  },
  "language_info": {
   "codemirror_mode": {
    "name": "ipython",
    "version": 3
   },
   "file_extension": ".py",
   "mimetype": "text/x-python",
   "name": "python",
   "nbconvert_exporter": "python",
   "pygments_lexer": "ipython3",
   "version": "3.13.7"
  }
 },
 "nbformat": 4,
 "nbformat_minor": 5
}
