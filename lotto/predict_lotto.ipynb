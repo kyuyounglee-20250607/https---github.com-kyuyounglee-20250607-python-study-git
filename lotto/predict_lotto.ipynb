{
 "cells": [
  {
   "cell_type": "code",
   "execution_count": 76,
   "id": "c1a2d26f",
   "metadata": {},
   "outputs": [],
   "source": [
    "# 엑셀파일 읽기\n",
    "import pandas as pd"
   ]
  },
  {
   "cell_type": "code",
   "execution_count": 77,
   "id": "063d27f3",
   "metadata": {},
   "outputs": [
    {
     "name": "stdout",
     "output_type": "stream",
     "text": [
      "Requirement already satisfied: pandas in d:\\week_src\\.venv\\lib\\site-packages (2.3.2)\n",
      "Requirement already satisfied: openpyxl in d:\\week_src\\.venv\\lib\\site-packages (3.1.5)\n",
      "Requirement already satisfied: xlrd in d:\\week_src\\.venv\\lib\\site-packages (2.0.2)\n",
      "Requirement already satisfied: numpy>=1.26.0 in d:\\week_src\\.venv\\lib\\site-packages (from pandas) (2.3.3)\n",
      "Requirement already satisfied: python-dateutil>=2.8.2 in d:\\week_src\\.venv\\lib\\site-packages (from pandas) (2.9.0.post0)\n",
      "Requirement already satisfied: pytz>=2020.1 in d:\\week_src\\.venv\\lib\\site-packages (from pandas) (2025.2)\n",
      "Requirement already satisfied: tzdata>=2022.7 in d:\\week_src\\.venv\\lib\\site-packages (from pandas) (2025.2)\n",
      "Requirement already satisfied: et-xmlfile in d:\\week_src\\.venv\\lib\\site-packages (from openpyxl) (2.0.0)\n",
      "Requirement already satisfied: six>=1.5 in d:\\week_src\\.venv\\lib\\site-packages (from python-dateutil>=2.8.2->pandas) (1.17.0)\n",
      "Note: you may need to restart the kernel to use updated packages.\n"
     ]
    }
   ],
   "source": [
    "%pip install pandas openpyxl xlrd"
   ]
  },
  {
   "cell_type": "code",
   "execution_count": 78,
   "id": "f7eeaee4",
   "metadata": {},
   "outputs": [
    {
     "data": {
      "text/html": [
       "<div>\n",
       "<style scoped>\n",
       "    .dataframe tbody tr th:only-of-type {\n",
       "        vertical-align: middle;\n",
       "    }\n",
       "\n",
       "    .dataframe tbody tr th {\n",
       "        vertical-align: top;\n",
       "    }\n",
       "\n",
       "    .dataframe thead th {\n",
       "        text-align: right;\n",
       "    }\n",
       "</style>\n",
       "<table border=\"1\" class=\"dataframe\">\n",
       "  <thead>\n",
       "    <tr style=\"text-align: right;\">\n",
       "      <th></th>\n",
       "      <th>13</th>\n",
       "      <th>14</th>\n",
       "      <th>15</th>\n",
       "      <th>16</th>\n",
       "      <th>17</th>\n",
       "      <th>18</th>\n",
       "      <th>19</th>\n",
       "    </tr>\n",
       "  </thead>\n",
       "  <tbody>\n",
       "    <tr>\n",
       "      <th>588</th>\n",
       "      <td>9</td>\n",
       "      <td>19</td>\n",
       "      <td>29</td>\n",
       "      <td>35</td>\n",
       "      <td>37</td>\n",
       "      <td>38</td>\n",
       "      <td>31</td>\n",
       "    </tr>\n",
       "    <tr>\n",
       "      <th>589</th>\n",
       "      <td>7</td>\n",
       "      <td>9</td>\n",
       "      <td>19</td>\n",
       "      <td>23</td>\n",
       "      <td>26</td>\n",
       "      <td>45</td>\n",
       "      <td>33</td>\n",
       "    </tr>\n",
       "    <tr>\n",
       "      <th>590</th>\n",
       "      <td>1</td>\n",
       "      <td>4</td>\n",
       "      <td>11</td>\n",
       "      <td>12</td>\n",
       "      <td>20</td>\n",
       "      <td>41</td>\n",
       "      <td>2</td>\n",
       "    </tr>\n",
       "    <tr>\n",
       "      <th>591</th>\n",
       "      <td>10</td>\n",
       "      <td>16</td>\n",
       "      <td>23</td>\n",
       "      <td>36</td>\n",
       "      <td>39</td>\n",
       "      <td>40</td>\n",
       "      <td>11</td>\n",
       "    </tr>\n",
       "    <tr>\n",
       "      <th>592</th>\n",
       "      <td>6</td>\n",
       "      <td>9</td>\n",
       "      <td>16</td>\n",
       "      <td>19</td>\n",
       "      <td>24</td>\n",
       "      <td>28</td>\n",
       "      <td>17</td>\n",
       "    </tr>\n",
       "  </tbody>\n",
       "</table>\n",
       "</div>"
      ],
      "text/plain": [
       "     13  14  15  16  17  18  19\n",
       "588   9  19  29  35  37  38  31\n",
       "589   7   9  19  23  26  45  33\n",
       "590   1   4  11  12  20  41   2\n",
       "591  10  16  23  36  39  40  11\n",
       "592   6   9  16  19  24  28  17"
      ]
     },
     "execution_count": 78,
     "metadata": {},
     "output_type": "execute_result"
    }
   ],
   "source": [
    "# pd.read_excel('./lotto_1193.xls',engine='xlrd')\n",
    "table = pd.read_html('./lotto_1193.xls')   # 확장자가  xls 이지만 내부에  html형태로 되어 있는 테이블\n",
    "lotto_df = table[1].loc[2:, 13:]\n",
    "lotto_df = lotto_df[::-1]  # 순서를 반대로\n",
    "lotto_df = lotto_df.reset_index(drop=True)  # 인덱스 정렬\n",
    "lotto_df.tail()"
   ]
  },
  {
   "cell_type": "code",
   "execution_count": 79,
   "id": "c0c975c8",
   "metadata": {},
   "outputs": [],
   "source": [
    "# 과거 2개의 데이터가 다음 차수를 예측하는 구조로 데이터 셋을 생성   x,y가 있어야 하기 때문에\n",
    "# 0:2 2\n",
    "# 1:3 3\n",
    "# 2:4 4 \n",
    "# ....\n",
    "# ?:len(x)"
   ]
  },
  {
   "cell_type": "code",
   "execution_count": 80,
   "id": "c770c942",
   "metadata": {},
   "outputs": [
    {
     "data": {
      "text/plain": [
       "13     6\n",
       "14     9\n",
       "15    16\n",
       "16    19\n",
       "17    24\n",
       "18    28\n",
       "19    17\n",
       "Name: 592, dtype: object"
      ]
     },
     "execution_count": 80,
     "metadata": {},
     "output_type": "execute_result"
    }
   ],
   "source": [
    "# 데이터셋 생성 완료\n",
    "X, y = [],[]\n",
    "for i in range(len(lotto_df)-2):\n",
    "    X.append(lotto_df.iloc[ i : i+2 ])\n",
    "    y.append(lotto_df.iloc[i+2])  \n",
    "y[-1]    "
   ]
  },
  {
   "cell_type": "code",
   "execution_count": 81,
   "id": "d7609f0a",
   "metadata": {},
   "outputs": [],
   "source": [
    "import numpy as np\n",
    "x_array = []\n",
    "for x_sample in X:\n",
    "    x_array.append(x_sample.values.flatten().tolist())\n",
    "y_array = []\n",
    "for y_sample in y:\n",
    "    y_array.append(y_sample.values.flatten().tolist())\n",
    "\n",
    "x_array = np.array(x_array)\n",
    "y_array = np.array(y_array)"
   ]
  },
  {
   "cell_type": "code",
   "execution_count": 82,
   "id": "d06c8a37",
   "metadata": {},
   "outputs": [
    {
     "name": "stdout",
     "output_type": "stream",
     "text": [
      "Requirement already satisfied: scikit-learn in d:\\week_src\\.venv\\lib\\site-packages (1.7.2)\n",
      "Requirement already satisfied: numpy>=1.22.0 in d:\\week_src\\.venv\\lib\\site-packages (from scikit-learn) (2.3.3)\n",
      "Requirement already satisfied: scipy>=1.8.0 in d:\\week_src\\.venv\\lib\\site-packages (from scikit-learn) (1.16.2)\n",
      "Requirement already satisfied: joblib>=1.2.0 in d:\\week_src\\.venv\\lib\\site-packages (from scikit-learn) (1.5.2)\n",
      "Requirement already satisfied: threadpoolctl>=3.1.0 in d:\\week_src\\.venv\\lib\\site-packages (from scikit-learn) (3.6.0)\n",
      "Note: you may need to restart the kernel to use updated packages.\n"
     ]
    }
   ],
   "source": [
    "#  데이터를 분할....  80% 학습  20% 평가\n",
    "%pip install scikit-learn"
   ]
  },
  {
   "cell_type": "code",
   "execution_count": 83,
   "id": "c1568baf",
   "metadata": {},
   "outputs": [],
   "source": [
    "from sklearn.model_selection import train_test_split"
   ]
  },
  {
   "cell_type": "code",
   "execution_count": 84,
   "id": "528b7071",
   "metadata": {},
   "outputs": [
    {
     "data": {
      "text/plain": [
       "array([['2', '19', '25', ..., '27', '43', '28'],\n",
       "       ['2', '6', '18', ..., '33', '34', '30'],\n",
       "       ['1', '2', '7', ..., '10', '38', '42'],\n",
       "       ...,\n",
       "       ['1', '4', '11', ..., '20', '41', '2'],\n",
       "       ['10', '16', '23', ..., '39', '40', '11'],\n",
       "       ['6', '9', '16', ..., '24', '28', '17']],\n",
       "      shape=(591, 7), dtype='<U2')"
      ]
     },
     "execution_count": 84,
     "metadata": {},
     "output_type": "execute_result"
    }
   ],
   "source": [
    "y_array"
   ]
  },
  {
   "cell_type": "code",
   "execution_count": 85,
   "id": "c831f526",
   "metadata": {},
   "outputs": [],
   "source": [
    "x_train,x_test,y_train,y_test =  train_test_split(x_array,y_array,test_size=0.2,random_state=42)\n"
   ]
  },
  {
   "cell_type": "code",
   "execution_count": 86,
   "id": "5f2e440e",
   "metadata": {},
   "outputs": [
    {
     "data": {
      "text/plain": [
       "array(['3', '4', '9', '24', '25', '33', '10', '11', '15', '24', '35',\n",
       "       '37', '45', '42'], dtype='<U2')"
      ]
     },
     "execution_count": 86,
     "metadata": {},
     "output_type": "execute_result"
    }
   ],
   "source": [
    "x_train[0]"
   ]
  },
  {
   "cell_type": "code",
   "execution_count": 89,
   "id": "6ac86952",
   "metadata": {},
   "outputs": [
    {
     "name": "stdout",
     "output_type": "stream",
     "text": [
      "1번번호의 학습 정확도 : 0.9957627118644068\n",
      "1번번호의 테스트 정확도 : 0.1092436974789916\n",
      "2번번호의 학습 정확도 : 1.0\n",
      "2번번호의 테스트 정확도 : 0.05042016806722689\n",
      "3번번호의 학습 정확도 : 0.9978813559322034\n",
      "3번번호의 테스트 정확도 : 0.04201680672268908\n",
      "4번번호의 학습 정확도 : 1.0\n",
      "4번번호의 테스트 정확도 : 0.008403361344537815\n",
      "5번번호의 학습 정확도 : 1.0\n",
      "5번번호의 테스트 정확도 : 0.03361344537815126\n",
      "6번번호의 학습 정확도 : 1.0\n",
      "6번번호의 테스트 정확도 : 0.1092436974789916\n",
      "7번번호의 학습 정확도 : 0.9978813559322034\n",
      "7번번호의 테스트 정확도 : 0.025210084033613446\n"
     ]
    }
   ],
   "source": [
    "# 머신러닝  랜덤포레스트\n",
    "from sklearn.ensemble import RandomForestClassifier\n",
    "models = []\n",
    "for position in range(7):\n",
    "    y_train_pos =  y_train[:,position]\n",
    "    y_test_pos =  y_test[:,position]\n",
    "    # model  생성\n",
    "    model = RandomForestClassifier(max_depth=10, random_state=42)\n",
    "    # model  학습\n",
    "    model.fit(x_train,y_train_pos)\n",
    "\n",
    "    # 평가\n",
    "    train_score = model.score(x_train,y_train_pos)\n",
    "    test_score = model.score(x_test,y_test_pos)\n",
    "    print(f'{position+1}번번호의 학습 정확도 : {train_score}')\n",
    "    print(f'{position+1}번번호의 테스트 정확도 : {test_score}')\n",
    "\n",
    "    models.append(model)\n"
   ]
  },
  {
   "cell_type": "code",
   "execution_count": 88,
   "id": "31c5b85b",
   "metadata": {},
   "outputs": [
    {
     "data": {
      "text/plain": [
       "(472, 14)"
      ]
     },
     "execution_count": 88,
     "metadata": {},
     "output_type": "execute_result"
    }
   ],
   "source": [
    "x_train.shape\n"
   ]
  }
 ],
 "metadata": {
  "kernelspec": {
   "display_name": ".venv",
   "language": "python",
   "name": "python3"
  },
  "language_info": {
   "codemirror_mode": {
    "name": "ipython",
    "version": 3
   },
   "file_extension": ".py",
   "mimetype": "text/x-python",
   "name": "python",
   "nbconvert_exporter": "python",
   "pygments_lexer": "ipython3",
   "version": "3.13.9"
  }
 },
 "nbformat": 4,
 "nbformat_minor": 5
}
