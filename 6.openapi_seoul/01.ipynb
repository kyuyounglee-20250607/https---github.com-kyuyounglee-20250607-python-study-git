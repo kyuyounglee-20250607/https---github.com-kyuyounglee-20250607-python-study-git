{
 "cells": [
  {
   "cell_type": "code",
   "execution_count": null,
   "id": "4b9a1fc0",
   "metadata": {},
   "outputs": [],
   "source": [
    "import requests\n",
    "import dotenv\n",
    "import os\n",
    "dotenv.load_dotenv()  # .env 환경변수 파일을 로드함\n",
    "\n",
    "key = os.getenv(\"SEOUL_API\")"
   ]
  },
  {
   "cell_type": "code",
   "execution_count": null,
   "id": "b54ff712",
   "metadata": {},
   "outputs": [],
   "source": [
    "url = 'http://openapi.seoul.go.kr:8088/'+key+'/json/VwsmMegaSelngW/1/1000/'\n",
    "response = requests.get(url)\n",
    "print(f'접속주소 : {response.url}')\n",
    "print(f'응답코드 : {response.status_code}')\n",
    "result = response.json()\n",
    "# 보기쉽게 들여쓰기로 출력\n",
    "import json\n",
    "result = result['VwsmMegaSelngW']['row']\n",
    "print(len(result))\n",
    "print(json.dumps(result[0],indent=4,ensure_ascii=False)) "
   ]
  },
  {
   "cell_type": "code",
   "execution_count": null,
   "id": "da43db07",
   "metadata": {},
   "outputs": [],
   "source": [
    "import pandas as pd\n",
    "df = pd.DataFrame(result)\n",
    "\n",
    "column_mapping = {\n",
    "    \"STDR_YYQU_CD\": \"기준_년분기_코드\",\n",
    "    \"MEGA_CD\": \"서울시_코드\",\n",
    "    \"MEGA_CD_NM\": \"서울시_코드_명\",\n",
    "    \"SVC_INDUTY_CD\": \"서비스_업종_코드\",\n",
    "    \"SVC_INDUTY_CD_NM\": \"서비스_업종_코드_명\",\n",
    "    \"THSMON_SELNG_AMT\": \"당월_매출_금액\",\n",
    "    \"THSMON_SELNG_CO\": \"당월_매출_건수\",\n",
    "    \"MDWK_SELNG_AMT\": \"주중_매출_금액\",\n",
    "    \"WKEND_SELNG_AMT\": \"주말_매출_금액\",\n",
    "    \"MON_SELNG_AMT\": \"월요일_매출_금액\",\n",
    "    \"TUES_SELNG_AMT\": \"화요일_매출_금액\",\n",
    "    \"WED_SELNG_AMT\": \"수요일_매출_금액\",\n",
    "    \"THUR_SELNG_AMT\": \"목요일_매출_금액\",\n",
    "    \"FRI_SELNG_AMT\": \"금요일_매출_금액\",\n",
    "    \"SAT_SELNG_AMT\": \"토요일_매출_금액\",\n",
    "    \"SUN_SELNG_AMT\": \"일요일_매출_금액\",\n",
    "    \"TMZON_00_06_SELNG_AMT\": \"시간대_00~06_매출_금액\",\n",
    "    \"TMZON_06_11_SELNG_AMT\": \"시간대_06~11_매출_금액\",\n",
    "    \"TMZON_11_14_SELNG_AMT\": \"시간대_11~14_매출_금액\",\n",
    "    \"TMZON_14_17_SELNG_AMT\": \"시간대_14~17_매출_금액\",\n",
    "    \"TMZON_17_21_SELNG_AMT\": \"시간대_17~21_매출_금액\",\n",
    "    \"TMZON_21_24_SELNG_AMT\": \"시간대_21~24_매출_금액\",\n",
    "    \"ML_SELNG_AMT\": \"남성_매출_금액\",\n",
    "    \"FML_SELNG_AMT\": \"여성_매출_금액\",\n",
    "    \"AGRDE_10_SELNG_AMT\": \"연령대_10_매출_금액\",\n",
    "    \"AGRDE_20_SELNG_AMT\": \"연령대_20_매출_금액\",\n",
    "    \"AGRDE_30_SELNG_AMT\": \"연령대_30_매출_금액\",\n",
    "    \"AGRDE_40_SELNG_AMT\": \"연령대_40_매출_금액\",\n",
    "    \"AGRDE_50_SELNG_AMT\": \"연령대_50_매출_금액\",\n",
    "    \"AGRDE_60_ABOVE_SELNG_AMT\": \"연령대_60_이상_매출_금액\",\n",
    "    \"MDWK_SELNG_CO\": \"주중_매출_건수\",\n",
    "    \"WKEND_SELNG_CO\": \"주말_매출_건수\",\n",
    "    \"MON_SELNG_CO\": \"월요일_매출_건수\",\n",
    "    \"TUES_SELNG_CO\": \"화요일_매출_건수\",\n",
    "    \"WED_SELNG_CO\": \"수요일_매출_건수\",\n",
    "    \"THUR_SELNG_CO\": \"목요일_매출_건수\",\n",
    "    \"FRI_SELNG_CO\": \"금요일_매출_건수\",\n",
    "    \"SAT_SELNG_CO\": \"토요일_매출_건수\",\n",
    "    \"SUN_SELNG_CO\": \"일요일_매출_건수\",\n",
    "    \"TMZON_00_06_SELNG_CO\": \"시간대_00~06_매출_건수\",\n",
    "    \"TMZON_06_11_SELNG_CO\": \"시간대_06~11_매출_건수\",\n",
    "    \"TMZON_11_14_SELNG_CO\": \"시간대_11~14_매출_건수\",\n",
    "    \"TMZON_14_17_SELNG_CO\": \"시간대_14~17_매출_건수\",\n",
    "    \"TMZON_17_21_SELNG_CO\": \"시간대_17~21_매출_건수\",\n",
    "    \"TMZON_21_24_SELNG_CO\": \"시간대_21~24_매출_건수\",\n",
    "    \"ML_SELNG_CO\": \"남성_매출_건수\",\n",
    "    \"FML_SELNG_CO\": \"여성_매출_건수\",\n",
    "    \"AGRDE_10_SELNG_CO\": \"연령대_10_매출_건수\",\n",
    "    \"AGRDE_20_SELNG_CO\": \"연령대_20_매출_건수\",\n",
    "    \"AGRDE_30_SELNG_CO\": \"연령대_30_매출_건수\",\n",
    "    \"AGRDE_40_SELNG_CO\": \"연령대_40_매출_건수\",\n",
    "    \"AGRDE_50_SELNG_CO\": \"연령대_50_매출_건수\",\n",
    "    \"AGRDE_60_ABOVE_SELNG_CO\": \"연령대_60_이상_매출_건수\"\n",
    "}\n",
    "\n",
    "df.rename(columns= column_mapping, inplace=True)\n",
    "df.to_csv('seoul_store.csv',index=False,encoding='cp949' )"
   ]
  },
  {
   "cell_type": "code",
   "execution_count": null,
   "id": "5714aeaa",
   "metadata": {},
   "outputs": [],
   "source": [
    "df.set_index('기준_년분기_코드',inplace=True)"
   ]
  },
  {
   "cell_type": "code",
   "execution_count": null,
   "id": "b6642ccf",
   "metadata": {},
   "outputs": [],
   "source": [
    "df.drop(columns=['서울시_코드','서울시_코드_명','서비스_업종_코드'],inplace=True)"
   ]
  },
  {
   "cell_type": "code",
   "execution_count": null,
   "id": "4aacab34",
   "metadata": {},
   "outputs": [],
   "source": [
    "df.head()"
   ]
  },
  {
   "cell_type": "code",
   "execution_count": null,
   "id": "a246ed91",
   "metadata": {},
   "outputs": [],
   "source": [
    "%pip install ipykernel jupyter"
   ]
  },
  {
   "cell_type": "code",
   "execution_count": null,
   "id": "10fac3de",
   "metadata": {},
   "outputs": [],
   "source": [
    "df.columns"
   ]
  },
  {
   "cell_type": "code",
   "execution_count": null,
   "id": "6109f5d6",
   "metadata": {},
   "outputs": [],
   "source": [
    "df.info()"
   ]
  },
  {
   "cell_type": "code",
   "execution_count": null,
   "id": "8916d299",
   "metadata": {},
   "outputs": [],
   "source": [
    "df.describe()"
   ]
  }
 ],
 "metadata": {
  "language_info": {
   "name": "python"
  }
 },
 "nbformat": 4,
 "nbformat_minor": 5
}
